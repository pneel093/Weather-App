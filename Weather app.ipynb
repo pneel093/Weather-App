{
 "cells": [
  {
   "cell_type": "code",
   "execution_count": 3,
   "id": "b7e859c5",
   "metadata": {},
   "outputs": [
    {
     "name": "stdout",
     "output_type": "stream",
     "text": [
      "enter the city name\n",
      "Vadodara\n",
      "Searching in google......\n",
      "\n",
      "Today's date: 2022-12-26\n",
      "Vadodara, Gujarat, Indien\n",
      "Montag, 21:00\n",
      "Dunst\n",
      "21°C\n"
     ]
    }
   ],
   "source": [
    "from bs4 import BeautifulSoup\n",
    "from datetime import date\n",
    "import requests\n",
    "headers = {'User-Agent': 'Mozilla/5.0 (Windows NT 10.0; Win64; x64) AppleWebKit/537.36 (KHTML, like Gecko) Chrome/58.0.3029.110 Safari/537.3'}\n",
    "\n",
    "def weather(city):\n",
    "    city=city.replace(\" \",\"+\")\n",
    "    res = requests.get(f'https://www.google.com/search?q={city}&oq={city}&aqs=chrome.0.35i39l2j0l4j46j69i60.6128j1j7&sourceid=chrome&ie=UTF-8',headers=headers)\n",
    "    print(\"Searching in google......\\n\")\n",
    "    soup = BeautifulSoup(res.text,'html.parser')   \n",
    "    location = soup.select('#wob_loc')[0].getText().strip()  \n",
    "    time = soup.select('#wob_dts')[0].getText().strip()       \n",
    "    info = soup.select('#wob_dc')[0].getText().strip() \n",
    "    weather = soup.select('#wob_tm')[0].getText().strip()\n",
    "    today = date.today()\n",
    "    print(\"Today's date:\", today)\n",
    "    print(location)\n",
    "    print(time)\n",
    "    print(info)\n",
    "    print(weather+\"°C\") \n",
    "\n",
    "print(\"enter the city name\")\n",
    "city=input()\n",
    "city=city+\" weather\"\n",
    "weather(city)"
   ]
  },
  {
   "cell_type": "code",
   "execution_count": null,
   "id": "a57dd49a",
   "metadata": {},
   "outputs": [],
   "source": []
  }
 ],
 "metadata": {
  "kernelspec": {
   "display_name": "Python 3 (ipykernel)",
   "language": "python",
   "name": "python3"
  },
  "language_info": {
   "codemirror_mode": {
    "name": "ipython",
    "version": 3
   },
   "file_extension": ".py",
   "mimetype": "text/x-python",
   "name": "python",
   "nbconvert_exporter": "python",
   "pygments_lexer": "ipython3",
   "version": "3.9.12"
  }
 },
 "nbformat": 4,
 "nbformat_minor": 5
}
